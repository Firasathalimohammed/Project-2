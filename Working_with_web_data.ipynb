{
 "cells": [
  {
   "cell_type": "markdown",
   "metadata": {},
   "source": [
    "# Project-2 "
   ]
  },
  {
   "cell_type": "markdown",
   "metadata": {},
   "source": [
    "# Working with web data"
   ]
  },
  {
   "cell_type": "markdown",
   "metadata": {},
   "source": [
    "## Name: Firasath ali Mohammed"
   ]
  },
  {
   "cell_type": "markdown",
   "metadata": {},
   "source": [
    "# Task 1: Sitemap Scraping and Analysis\n",
    "In this task, we use the `TimeoutSitemapParser` class to scrape and organize sitemap URLs from the Timeout website. Our goal is to extract URLs from the sitemaps, process them for detailed paths, and save the data in a structured format for further analysis.\n"
   ]
  },
  {
   "cell_type": "code",
   "execution_count": 1,
   "metadata": {},
   "outputs": [],
   "source": [
    "import pandas as pd\n",
    "from bs4 import BeautifulSoup\n",
    "import requests\n",
    "import os\n"
   ]
  },
  {
   "cell_type": "markdown",
   "metadata": {},
   "source": [
    "## Loading the TimeoutSitemapParser Module\n",
    "First, we import the `TimeoutSitemapParser` class from our custom module. This class is designed to handle sitemap data scraping from the Timeout website.\n"
   ]
  },
  {
   "cell_type": "code",
   "execution_count": 6,
   "metadata": {},
   "outputs": [],
   "source": [
    "from scraping_packages.Timeout_Sitemap_Parser import TimeoutSitemapScraper"
   ]
  },
  {
   "cell_type": "markdown",
   "metadata": {},
   "source": [
    "## Initializing the TimeoutSitemapScraper\n",
    "\n",
    "We instantiate `TimeoutSitemapScraper` with the base URL of the Timeout website.\n"
   ]
  },
  {
   "cell_type": "code",
   "execution_count": 7,
   "metadata": {},
   "outputs": [],
   "source": [
    "# Initialize the TimeoutSitemapScraper\n",
    "timeout_scraper = TimeoutSitemapScraper(\"https://www.timeout.com\")\n"
   ]
  },
  {
   "cell_type": "markdown",
   "metadata": {},
   "source": [
    "## Scraping and Processing Sitemaps\n",
    "\n",
    "We will extract sitemap URLs and process them to obtain detailed path information.\n"
   ]
  },
  {
   "cell_type": "code",
   "execution_count": 8,
   "metadata": {},
   "outputs": [],
   "source": [
    "# Collect sitemaps and process detailed path information\n",
    "timeout_scraper.collect_sitemaps()\n",
    "timeout_scraper.detail_urls()\n"
   ]
  },
  {
   "cell_type": "markdown",
   "metadata": {},
   "source": [
    "## Saving the Scraped Data\n",
    "\n",
    "The scraped sitemap data, along with detailed path information, will be saved as CSV files.\n"
   ]
  },
  {
   "cell_type": "code",
   "execution_count": 9,
   "metadata": {},
   "outputs": [],
   "source": [
    "# Save the detailed sitemap data in a designated directory\n",
    "save_dir = \"timeout_sitemap_data\"\n",
    "timeout_scraper.store_data_as_csv(save_dir)\n"
   ]
  },
  {
   "cell_type": "markdown",
   "metadata": {},
   "source": [
    "## Combining and Displaying Sitemap Data\n",
    "\n",
    "We combine data from individual sitemaps into a single DataFrame for overview and analysis.\n"
   ]
  },
  {
   "cell_type": "code",
   "execution_count": 10,
   "metadata": {},
   "outputs": [
    {
     "data": {
      "text/html": [
       "<div>\n",
       "<style scoped>\n",
       "    .dataframe tbody tr th:only-of-type {\n",
       "        vertical-align: middle;\n",
       "    }\n",
       "\n",
       "    .dataframe tbody tr th {\n",
       "        vertical-align: top;\n",
       "    }\n",
       "\n",
       "    .dataframe thead th {\n",
       "        text-align: right;\n",
       "    }\n",
       "</style>\n",
       "<table border=\"1\" class=\"dataframe\">\n",
       "  <thead>\n",
       "    <tr style=\"text-align: right;\">\n",
       "      <th></th>\n",
       "      <th>URLs</th>\n",
       "      <th>Path_Details</th>\n",
       "    </tr>\n",
       "  </thead>\n",
       "  <tbody>\n",
       "    <tr>\n",
       "      <th>0</th>\n",
       "      <td>https://www.timeout.com/sitemap_global.xml.gz</td>\n",
       "      <td>[sitemap_global.xml.gz]</td>\n",
       "    </tr>\n",
       "    <tr>\n",
       "      <th>1</th>\n",
       "      <td>https://www.timeout.com/tr/sitemap_global.xml.gz</td>\n",
       "      <td>[tr, sitemap_global.xml.gz]</td>\n",
       "    </tr>\n",
       "    <tr>\n",
       "      <th>2</th>\n",
       "      <td>https://www.timeout.com/ja/sitemap_global.xml.gz</td>\n",
       "      <td>[ja, sitemap_global.xml.gz]</td>\n",
       "    </tr>\n",
       "    <tr>\n",
       "      <th>3</th>\n",
       "      <td>https://www.timeout.com/ru/sitemap_global.xml.gz</td>\n",
       "      <td>[ru, sitemap_global.xml.gz]</td>\n",
       "    </tr>\n",
       "    <tr>\n",
       "      <th>4</th>\n",
       "      <td>https://www.timeout.com/th/sitemap_global.xml.gz</td>\n",
       "      <td>[th, sitemap_global.xml.gz]</td>\n",
       "    </tr>\n",
       "  </tbody>\n",
       "</table>\n",
       "</div>"
      ],
      "text/plain": [
       "                                               URLs  \\\n",
       "0     https://www.timeout.com/sitemap_global.xml.gz   \n",
       "1  https://www.timeout.com/tr/sitemap_global.xml.gz   \n",
       "2  https://www.timeout.com/ja/sitemap_global.xml.gz   \n",
       "3  https://www.timeout.com/ru/sitemap_global.xml.gz   \n",
       "4  https://www.timeout.com/th/sitemap_global.xml.gz   \n",
       "\n",
       "                  Path_Details  \n",
       "0      [sitemap_global.xml.gz]  \n",
       "1  [tr, sitemap_global.xml.gz]  \n",
       "2  [ja, sitemap_global.xml.gz]  \n",
       "3  [ru, sitemap_global.xml.gz]  \n",
       "4  [th, sitemap_global.xml.gz]  "
      ]
     },
     "execution_count": 10,
     "metadata": {},
     "output_type": "execute_result"
    }
   ],
   "source": [
    "# Combine sitemap data into a single DataFrame\n",
    "combined_sitemap_df = pd.concat(timeout_scraper.sitemap_records.values(), ignore_index=True)\n",
    "\n",
    "# Display the first few rows of the combined DataFrame\n",
    "combined_sitemap_df.head()\n"
   ]
  },
  {
   "cell_type": "markdown",
   "metadata": {},
   "source": [
    "## Analysis of Scraped Sitemap Data from Timeout Website\n",
    "\n",
    "### Understanding the Data Structure\n",
    "\n",
    "- **URLs Column:** This column lists the complete URLs of various sitemaps from the Timeout website. These sitemaps provide insights into the site's content structure, indicating how different sections and topics are organized.\n",
    "\n",
    "- **Path_Details Column:** Shows the breakdown of each URL into its components, offering insights into the hierarchical structure of the website and how it organizes its content.\n",
    "\n",
    "### Potential Uses of the Sitemap Data\n",
    "\n",
    "1. **Website Navigation Analysis:** Analyzing the detailed sitemap URLs can provide insights into the Timeout website's navigation scheme, helping understand user experience and content accessibility.\n",
    "\n",
    "2. **Content Categorization Insight:** The path details reveal the categorization of content on the website, highlighting regional and language-specific sections (as denoted by codes like 'ja', 'ru', 'th'). This is valuable for understanding content strategy and localization.\n",
    "\n",
    "3. **SEO and Digital Marketing Applications:** Insights from the sitemap structure can be used for Search Engine Optimization (SEO) and targeted digital marketing, helping to enhance content visibility and reach.\n",
    "\n",
    "### Further Steps for Exploration\n",
    "\n",
    "- **Deep Dive into Specific Sitemaps:** Exploring specific sitemaps in detail can provide more insights into the types of content featured in different sections of the Timeout website.\n",
    "\n",
    "- **Integration with Subsequent Tasks:** This foundational sitemap data can be integrated with other tasks, such as targeted web scraping, to collect more specific content.\n",
    "\n",
    "### Conclusion\n",
    "\n",
    "The extracted sitemap data from the Timeout website offers valuable insights into the site's structure and content organization. This information is crucial for web analysis, enhancing SEO strategies, and developing content plans. The segmentation of URLs into path details enriches our understanding of the website's approach to content categorization, potentially segmented by region or language.\n",
    "\n",
    "The `TimeoutSitemapScraper` has effectively gathered URLs from the Timeout website's sitemaps and detailed their paths. This data is crucial for understanding the website's structure and content distribution, serving as a foundation for further analysis or integration into subsequent tasks."
   ]
  },
  {
   "cell_type": "markdown",
   "metadata": {},
   "source": [
    "# Spotify Artist Data Fetcher\n",
    "In this notebook, we will demonstrate how to use the `SpotifyArtistFetcher` class to retrieve information about artists from the Spotify API.\n"
   ]
  },
  {
   "cell_type": "code",
   "execution_count": 11,
   "metadata": {},
   "outputs": [],
   "source": [
    "# Import necessary libraries\n",
    "import pandas as pd\n",
    "from scraping_packages.spotify_artist_searcher import SpotifyArtistFetcher\n",
    "\n",
    "\n",
    "client_id = '8efc3baa862d4a90b9e2e1f12c539263'\n",
    "client_secret = '638c7c5cc80545feace5318703630509'\n"
   ]
  },
  {
   "cell_type": "markdown",
   "metadata": {},
   "source": [
    "## Initializing the SpotifyArtistFetcher\n",
    "First, we initialize the `SpotifyArtistFetcher` with our Spotify client ID and secret. This is required for authenticating with the Spotify API.\n"
   ]
  },
  {
   "cell_type": "code",
   "execution_count": 12,
   "metadata": {},
   "outputs": [],
   "source": [
    "# Initialize the SpotifyArtistFetcher\n",
    "spotify_fetcher = SpotifyArtistFetcher(client_id, client_secret)\n"
   ]
  },
  {
   "cell_type": "markdown",
   "metadata": {},
   "source": [
    "## Authenticating with the Spotify API\n",
    "To fetch data from the Spotify API, we need to authenticate and obtain an access token. The `authenticate` method handles this process.\n"
   ]
  },
  {
   "cell_type": "code",
   "execution_count": 13,
   "metadata": {},
   "outputs": [],
   "source": [
    "# Authenticate with the Spotify API\n",
    "spotify_fetcher.authenticate()\n"
   ]
  },
  {
   "cell_type": "markdown",
   "metadata": {},
   "source": [
    "## Searching for Artists\n",
    "Once authenticated, we can use the `search_and_collect_artists` method to search for artists based on a specific query. The method returns a DataFrame containing artist data.\n"
   ]
  },
  {
   "cell_type": "code",
   "execution_count": 14,
   "metadata": {},
   "outputs": [],
   "source": [
    "# Example query to search for artists\n",
    "query = \"Beatles\"\n",
    "artist_data = spotify_fetcher.search_and_collect_artists(query, max_artists=1000)\n"
   ]
  },
  {
   "cell_type": "markdown",
   "metadata": {},
   "source": [
    "## Displaying Retrieved Artist Data\n",
    "We display the first few rows of the retrieved data to verify the results.\n"
   ]
  },
  {
   "cell_type": "code",
   "execution_count": 15,
   "metadata": {},
   "outputs": [
    {
     "data": {
      "text/html": [
       "<div>\n",
       "<style scoped>\n",
       "    .dataframe tbody tr th:only-of-type {\n",
       "        vertical-align: middle;\n",
       "    }\n",
       "\n",
       "    .dataframe tbody tr th {\n",
       "        vertical-align: top;\n",
       "    }\n",
       "\n",
       "    .dataframe thead th {\n",
       "        text-align: right;\n",
       "    }\n",
       "</style>\n",
       "<table border=\"1\" class=\"dataframe\">\n",
       "  <thead>\n",
       "    <tr style=\"text-align: right;\">\n",
       "      <th></th>\n",
       "      <th>artist_name</th>\n",
       "      <th>spotify_id</th>\n",
       "      <th>genres</th>\n",
       "      <th>popularity_score</th>\n",
       "      <th>followers_count</th>\n",
       "      <th>spotify_profile_url</th>\n",
       "      <th>image_url</th>\n",
       "    </tr>\n",
       "  </thead>\n",
       "  <tbody>\n",
       "    <tr>\n",
       "      <th>0</th>\n",
       "      <td>The Beatles</td>\n",
       "      <td>3WrFJ7ztbogyGnTHbHJFl2</td>\n",
       "      <td>british invasion, classic rock, merseybeat, ps...</td>\n",
       "      <td>83</td>\n",
       "      <td>26579642</td>\n",
       "      <td>https://open.spotify.com/artist/3WrFJ7ztbogyGn...</td>\n",
       "      <td>https://i.scdn.co/image/ab6761610000e5ebe9348c...</td>\n",
       "    </tr>\n",
       "    <tr>\n",
       "      <th>1</th>\n",
       "      <td>Beatless</td>\n",
       "      <td>4rH6ZqyKeYKNrPGWM9xK7e</td>\n",
       "      <td></td>\n",
       "      <td>1</td>\n",
       "      <td>186</td>\n",
       "      <td>https://open.spotify.com/artist/4rH6ZqyKeYKNrP...</td>\n",
       "      <td>https://i.scdn.co/image/ab67616d0000b273218e07...</td>\n",
       "    </tr>\n",
       "    <tr>\n",
       "      <th>2</th>\n",
       "      <td>Taylor Swift</td>\n",
       "      <td>06HL4z0CvFAxyc27GXpf02</td>\n",
       "      <td>pop</td>\n",
       "      <td>100</td>\n",
       "      <td>92955929</td>\n",
       "      <td>https://open.spotify.com/artist/06HL4z0CvFAxyc...</td>\n",
       "      <td>https://i.scdn.co/image/ab6761610000e5eb859e4c...</td>\n",
       "    </tr>\n",
       "    <tr>\n",
       "      <th>3</th>\n",
       "      <td>The Beatles Complete On Ukulele</td>\n",
       "      <td>5o723EMxNulM5ydXRh7Qkk</td>\n",
       "      <td></td>\n",
       "      <td>14</td>\n",
       "      <td>2237</td>\n",
       "      <td>https://open.spotify.com/artist/5o723EMxNulM5y...</td>\n",
       "      <td>https://i.scdn.co/image/ab6761610000e5ebd19de1...</td>\n",
       "    </tr>\n",
       "    <tr>\n",
       "      <th>4</th>\n",
       "      <td>Lin-Manuel Miranda</td>\n",
       "      <td>4aXXDj9aZnlshx7mzj3W1N</td>\n",
       "      <td>broadway, show tunes</td>\n",
       "      <td>70</td>\n",
       "      <td>593429</td>\n",
       "      <td>https://open.spotify.com/artist/4aXXDj9aZnlshx...</td>\n",
       "      <td>https://i.scdn.co/image/84dc87cca456089fc5cfa2...</td>\n",
       "    </tr>\n",
       "  </tbody>\n",
       "</table>\n",
       "</div>"
      ],
      "text/plain": [
       "                       artist_name              spotify_id  \\\n",
       "0                      The Beatles  3WrFJ7ztbogyGnTHbHJFl2   \n",
       "1                         Beatless  4rH6ZqyKeYKNrPGWM9xK7e   \n",
       "2                     Taylor Swift  06HL4z0CvFAxyc27GXpf02   \n",
       "3  The Beatles Complete On Ukulele  5o723EMxNulM5ydXRh7Qkk   \n",
       "4               Lin-Manuel Miranda  4aXXDj9aZnlshx7mzj3W1N   \n",
       "\n",
       "                                              genres  popularity_score  \\\n",
       "0  british invasion, classic rock, merseybeat, ps...                83   \n",
       "1                                                                    1   \n",
       "2                                                pop               100   \n",
       "3                                                                   14   \n",
       "4                               broadway, show tunes                70   \n",
       "\n",
       "   followers_count                                spotify_profile_url  \\\n",
       "0         26579642  https://open.spotify.com/artist/3WrFJ7ztbogyGn...   \n",
       "1              186  https://open.spotify.com/artist/4rH6ZqyKeYKNrP...   \n",
       "2         92955929  https://open.spotify.com/artist/06HL4z0CvFAxyc...   \n",
       "3             2237  https://open.spotify.com/artist/5o723EMxNulM5y...   \n",
       "4           593429  https://open.spotify.com/artist/4aXXDj9aZnlshx...   \n",
       "\n",
       "                                           image_url  \n",
       "0  https://i.scdn.co/image/ab6761610000e5ebe9348c...  \n",
       "1  https://i.scdn.co/image/ab67616d0000b273218e07...  \n",
       "2  https://i.scdn.co/image/ab6761610000e5eb859e4c...  \n",
       "3  https://i.scdn.co/image/ab6761610000e5ebd19de1...  \n",
       "4  https://i.scdn.co/image/84dc87cca456089fc5cfa2...  "
      ]
     },
     "execution_count": 15,
     "metadata": {},
     "output_type": "execute_result"
    }
   ],
   "source": [
    "# Display the top rows of the DataFrame\n",
    "artist_data.head()\n"
   ]
  },
  {
   "cell_type": "markdown",
   "metadata": {},
   "source": [
    "## Saving Data to a CSV File\n",
    "Optionally, we can save the retrieved artist data to a CSV file for further analysis or record-keeping.\n"
   ]
  },
  {
   "cell_type": "code",
   "execution_count": 16,
   "metadata": {},
   "outputs": [
    {
     "name": "stdout",
     "output_type": "stream",
     "text": [
      "Data successfully saved to spotify_artists.csv\n"
     ]
    }
   ],
   "source": [
    "# Save the DataFrame to a CSV file\n",
    "csv_path = 'spotify_artists.csv'\n",
    "spotify_fetcher.save_data_to_csv(artist_data, csv_path)\n"
   ]
  },
  {
   "cell_type": "markdown",
   "metadata": {},
   "source": [
    "# Analysis of Spotify Artist Data\n",
    "\n",
    "## Overview of Data\n",
    "The dataset includes artist names, Spotify IDs, genres, popularity scores, follower counts, and URLs for Spotify profiles and images. Artists in the dataset range from the iconic Beatles to contemporary artists like Taylor Swift.\n",
    "\n",
    "## Insights from the Data\n",
    "- **Popularity and Followers**: Diverse popularity scores and follower counts are evident, with Taylor Swift having a high popularity score (100) and an impressive follower count of over 92 million.\n",
    "- **Genre Diversity**: The dataset reflects a wide range of genres, indicating Spotify's comprehensive music library.\n",
    "\n",
    "## Potential Use Cases\n",
    "The data can be used for music industry analysis, understanding genre popularity, and developing personalized music recommendation systems.\n",
    "\n",
    "## Data Limitations\n",
    "The limitations include incomplete genre data for some artists and the dynamic nature of popularity scores and follower counts.\n",
    "\n",
    "## Future Directions\n",
    "Future analysis could include in-depth genre studies and comparative analyses across different musical eras or regions.\n"
   ]
  },
  {
   "cell_type": "markdown",
   "metadata": {},
   "source": [
    "# Web Scraping Timeout New York Restaurants\n",
    "\n",
    "In this notebook, we use a custom Python class, `TimeoutRestaurantScraper`, to scrape data about the best restaurants in New York from the Timeout New York website. The data includes restaurant names, images, summaries, tags, links to detailed reviews, and additional details such as addresses, contact information, and opening hours. This dataset can be valuable for anyone interested in the New York culinary scene, whether for personal or analytical purposes.\n"
   ]
  },
  {
   "cell_type": "code",
   "execution_count": 1,
   "metadata": {},
   "outputs": [],
   "source": [
    "import pandas as pd\n",
    "from scraping_packages.timeout_restaurant_scraper import TimeoutRestaurantScraper\n"
   ]
  },
  {
   "cell_type": "markdown",
   "metadata": {},
   "source": [
    "## Initialize the Restaurant Scraper\n",
    "\n",
    "We start by initializing the `TimeoutRestaurantScraper` class with the base URL of Timeout New York.\n"
   ]
  },
  {
   "cell_type": "code",
   "execution_count": 2,
   "metadata": {},
   "outputs": [],
   "source": [
    "base_url = 'https://www.timeout.com'\n",
    "scraper = TimeoutRestaurantScraper(base_url)\n"
   ]
  },
  {
   "cell_type": "markdown",
   "metadata": {},
   "source": [
    "## Scraping Restaurant Data\n",
    "\n",
    "Using the `scrape_and_save` method, we scrape the restaurant data from Timeout New York and save it to a CSV file. The method returns the combined data as a DataFrame.\n"
   ]
  },
  {
   "cell_type": "code",
   "execution_count": 3,
   "metadata": {},
   "outputs": [
    {
     "name": "stdout",
     "output_type": "stream",
     "text": [
      "Data saved to restaurant_data.csv\n",
      "              Restaurant Name  \\\n",
      "0              Gage & Tollner   \n",
      "1                   Crown Shy   \n",
      "2   Tatiana by Kwame Onwuachi   \n",
      "3             Gramercy Tavern   \n",
      "4                     Dhamaka   \n",
      "\n",
      "                                           Image URL  \\\n",
      "0  https://media.timeout.com/images/105775049/750...   \n",
      "1  https://media.timeout.com/images/105905305/750...   \n",
      "2  https://media.timeout.com/images/106027457/750...   \n",
      "3  https://media.timeout.com/images/105853313/750...   \n",
      "4  https://media.timeout.com/images/105782761/750...   \n",
      "\n",
      "                                   Photograph Credit  \\\n",
      "0                  Photograph: Courtesy Lizzie Munro   \n",
      "1                Photograph: Courtesy of Chris Payne   \n",
      "2                Photograph: Courtesy of Adrian Gaut   \n",
      "3  Photograph: Courtesy Gramercy Tavern/Daniel Kr...   \n",
      "4                    Photograph: Courtesy Will Ellis   \n",
      "\n",
      "                                             Summary  \\\n",
      "0  What is it? At once an emblem of Old New York ...   \n",
      "1  What is it? An excellent entrée to NYC’s nicer...   \n",
      "2  What is it? The buzziest restaurant of 2023 (w...   \n",
      "3  What is it? A New York City classic among New ...   \n",
      "4  What is it? NYC’s dazzling best new restaurant...   \n",
      "\n",
      "                                          Tags  \\\n",
      "0             [Restaurants, Downtown Brooklyn]   \n",
      "1  [Restaurants, American, Financial District]   \n",
      "2               [Restaurants, Upper West Side]   \n",
      "3   [Restaurants, American creative, Flatiron]   \n",
      "4               [Restaurants, Lower East Side]   \n",
      "\n",
      "                                      Read More Link  \\\n",
      "0  https://www.timeout.com/newyork/restaurants/ga...   \n",
      "1  https://www.timeout.com/newyork/restaurants/cr...   \n",
      "2  https://www.timeout.com/newyork/restaurants/ta...   \n",
      "3  https://www.timeout.com/newyork/restaurants/gr...   \n",
      "4  https://www.timeout.com/newyork/restaurants/dh...   \n",
      "\n",
      "                                       Time Out says  Star Rating  \\\n",
      "0  One of Brooklyn's most beautiful destinations ...            4   \n",
      "1                                               None            4   \n",
      "2  A sizzling hotspot that actually exceeds expec...            5   \n",
      "3                                               None            0   \n",
      "4  Lesser-seen Indian dishes from the hit-making ...            0   \n",
      "\n",
      "                                      Review Content  \\\n",
      "0  Gage & Tollner is beautiful. Twirl through its...   \n",
      "1  Nestled inside 70 Pine Street is a maître d' d...   \n",
      "2  The buzziest restaurants in New York City are ...   \n",
      "3  A Central Casting, New York City classic if th...   \n",
      "4  Essex Market’s brand new “unapologetic Indian”...   \n",
      "\n",
      "                                Address       Contact  \\\n",
      "0        372 Fulton St, Brooklyn, 11201  347-689-3677   \n",
      "1           70 Pine St, New York, 10005    2125171932   \n",
      "2   10 Lincoln Center Plaza, NYC, 10023  212-875-5222   \n",
      "3      42 E 20th St, New York, 10003-13  212-477-0777   \n",
      "4  119 Delancey Street, New York, 10002  212.204.8616   \n",
      "\n",
      "                                           Menu Link  \\\n",
      "0  https://www.gageandtollner.com/gage-and-tollne...   \n",
      "1                                               None   \n",
      "2                   https://www.tatiananyc.com/menus   \n",
      "3                                               None   \n",
      "4                                               None   \n",
      "\n",
      "                            Opening Hours  \n",
      "0               Wednesday-Sunday, 5-10pm.  \n",
      "1                                    None  \n",
      "2  Dinner: Monday-Saturday from 5pm-10pm.  \n",
      "3              Daily from 11:30am-10:30pm  \n",
      "4           Tuesday–Sunday from 5pm–10pm.  \n"
     ]
    }
   ],
   "source": [
    "# Create an instance of the TimeoutRestaurantScraper\n",
    "scraper = TimeoutRestaurantScraper('https://www.timeout.com')\n",
    "\n",
    "# Scrape the restaurant data\n",
    "combined_df = scraper.combine_data()\n",
    "\n",
    "# Save the scraped data to a CSV file\n",
    "output_filename = 'restaurant_data.csv'\n",
    "scraper.store_to_csv(combined_df, output_filename)\n",
    "\n",
    "# Display the first few rows of the scraped data\n",
    "print(combined_df.head())\n"
   ]
  },
  {
   "cell_type": "markdown",
   "metadata": {},
   "source": [
    "## Displaying Sample Data\n",
    "\n",
    "Let's take a look at the first few entries in our scraped dataset to ensure we have the desired information.\n"
   ]
  },
  {
   "cell_type": "markdown",
   "metadata": {},
   "source": [
    "## Analysis of Top Restaurants in New York City\n",
    "\n",
    "### Dataset Overview\n",
    "\n",
    "The scraped dataset contains comprehensive information on some of the top restaurants in New York City as listed on Timeout's website. Each entry in the dataset provides a deep dive into the restaurant's offerings, ambiance, and customer reviews.\n",
    "\n",
    "### Key Columns in the Dataset\n",
    "\n",
    "1. **Restaurant Name**: Name of the restaurant.\n",
    "2. **Image URL**: URL of the restaurant's image.\n",
    "3. **Photograph Credit**: Credit for the photograph.\n",
    "4. **Summary**: A brief description of the restaurant.\n",
    "5. **Tags**: Categories the restaurant falls into.\n",
    "6. **Read More Link**: URL to read more about the restaurant.\n",
    "7. **Time Out says**: Timeout's perspective on the restaurant.\n",
    "8. **Star Rating**: Rating given by Timeout.\n",
    "9. **Review Content**: Detailed review of the restaurant.\n",
    "10. **Address**: Physical address of the restaurant.\n",
    "11. **Contact**: Contact information.\n",
    "12. **Menu Link**: Link to the restaurant's menu (if available).\n",
    "13. **Opening Hours**: Operating hours of the restaurant.\n",
    "\n",
    "### Insights from the Data\n",
    "\n",
    "- **Variety of Cuisines**: The dataset showcases a diverse range of cuisines, reflecting New York City's rich culinary scene.\n",
    "- **Star Ratings**: The star ratings provide a quick gauge of a restaurant's quality, with many enjoying high ratings, indicating exceptional dining experiences.\n",
    "- **Geographical Spread**: The restaurants are spread across various neighborhoods, offering a taste of different cultural influences within the city.\n",
    "- **Unique Offerings**: Many restaurants stand out with their unique offerings, as highlighted in their summaries and reviews.\n",
    "\n",
    "### Potential Uses of the Dataset\n",
    "\n",
    "- **Culinary Exploration**: Individuals looking to explore NYC's dining scene can use this dataset to find highly-rated and popular spots.\n",
    "- **Market Analysis**: The dataset can be useful for market analysis in the hospitality sector, understanding trends in cuisine preferences and customer expectations.\n",
    "- **Tourism and Travel Planning**: Travel agencies and tourists can utilize this data to include top dining experiences in their travel itineraries.\n",
    "\n",
    "This dataset provides a valuable snapshot of the vibrant and diverse dining options available in New York City, highlighting why it's renowned as a global culinary capital.\n"
   ]
  },
  {
   "cell_type": "markdown",
   "metadata": {},
   "source": [
    "# Conclusion\n",
    "\n",
    "The dataset has been successfully scraped and saved to a CSV file. It includes detailed information about various restaurants in New York, as found on the Timeout New York website. This data can be used for various analyses, such as identifying popular cuisines, understanding restaurant distribution in different neighborhoods, or analyzing customer reviews.\n",
    "\n",
    "# Next Steps\n",
    "\n",
    "- Perform exploratory data analysis on the dataset to uncover interesting trends and insights.\n",
    "- Use the data for a machine learning project, such as predicting restaurant popularity based on various features.\n",
    "- Enhance the scraping process to include more detailed reviews or additional restaurants.\n"
   ]
  },
  {
   "cell_type": "markdown",
   "metadata": {},
   "source": [
    "## Introduction\n",
    "\n",
    "This analysis focuses on a dataset of artists obtained from Spotify. The dataset includes various attributes such as artist names, Spotify IDs, genres, popularity scores, followers count, and more. The goal is to gain insights into the music trends, popular genres, and the impact of these artists based on their Spotify metrics.\n",
    "\n",
    "## Dataset Overview\n",
    "\n",
    "The dataset contains several columns, including:\n",
    "\n",
    "- `artist_name`: The name of the artist.\n",
    "- `spotify_id`: The unique identifier for the artist on Spotify.\n",
    "- `genres`: The genres associated with the artist.\n",
    "- `popularity_score`: The popularity score of the artist on Spotify.\n",
    "- `followers_count`: The number of followers of the artist on Spotify.\n",
    "- `spotify_profile_url`: The URL to the artist's Spotify profile.\n",
    "- `image_url`: The URL to the artist's image.\n",
    "\n",
    "First, let's load the dataset and perform initial data cleaning and preparation.\n"
   ]
  },
  {
   "cell_type": "code",
   "execution_count": 5,
   "metadata": {},
   "outputs": [
    {
     "name": "stdout",
     "output_type": "stream",
     "text": [
      "Missing Values:\n",
      " artist_name             0\n",
      "spotify_id              0\n",
      "genres                 95\n",
      "popularity_score        0\n",
      "followers_count         0\n",
      "spotify_profile_url     0\n",
      "image_url              26\n",
      "dtype: int64\n",
      "\n",
      "Data Types:\n",
      " artist_name            object\n",
      "spotify_id             object\n",
      "genres                 object\n",
      "popularity_score        int64\n",
      "followers_count         int64\n",
      "spotify_profile_url    object\n",
      "image_url              object\n",
      "dtype: object\n"
     ]
    }
   ],
   "source": [
    "import pandas as pd\n",
    "\n",
    "# Load the dataset\n",
    "df = pd.read_csv('spotify_artists.csv')\n",
    "\n",
    "# Data Cleaning and Preparation\n",
    "# Checking for missing values\n",
    "missing_values = df.isnull().sum()\n",
    "\n",
    "# Checking data types\n",
    "data_types = df.dtypes\n",
    "\n",
    "# Display missing values and data types\n",
    "print(\"Missing Values:\\n\", missing_values)\n",
    "print(\"\\nData Types:\\n\", data_types)\n",
    "\n",
    "# Handling missing values if necessary\n",
    "# For example, fill missing genres with 'Unknown'\n",
    "df['genres'].fillna('Unknown', inplace=True)\n"
   ]
  },
  {
   "cell_type": "markdown",
   "metadata": {},
   "source": [
    "## Popularity and Followers Analysis\n",
    "\n",
    "This section explores the relationship between an artist's popularity score on Spotify and their follower count. We aim to understand if a higher popularity score correlates with a larger number of followers.\n",
    "\n",
    "### Visualizing Popularity Scores\n",
    "\n",
    "First, we'll visualize the distribution of popularity scores to understand the general trend among the artists in our dataset.\n"
   ]
  },
  {
   "cell_type": "code",
   "execution_count": 6,
   "metadata": {},
   "outputs": [
    {
     "data": {
      "image/png": "[encoded data removed]",
      "text/plain": [
       "<Figure size 1000x600 with 1 Axes>"
      ]
     },
     "metadata": {},
     "output_type": "display_data"
    }
   ],
   "source": [
    "import matplotlib.pyplot as plt\n",
    "import seaborn as sns\n",
    "\n",
    "# Setting the aesthetic style of the plots\n",
    "sns.set_style(\"whitegrid\")\n",
    "\n",
    "# Plotting the distribution of popularity scores\n",
    "plt.figure(figsize=(10, 6))\n",
    "sns.histplot(df['popularity_score'], bins=30, kde=True, color='blue')\n",
    "plt.title('Distribution of Popularity Scores')\n",
    "plt.xlabel('Popularity Score')\n",
    "plt.ylabel('Frequency')\n",
    "plt.show()\n"
   ]
  },
  {
   "cell_type": "markdown",
   "metadata": {},
   "source": [
    "#### Distribution of Popularity Scores\n",
    "\n",
    "The histogram illustrates the distribution of popularity scores among Spotify artists. It indicates that a large number of artists have low popularity scores, while a smaller group achieves higher popularity. This suggests a competitive landscape where few artists manage to stand out significantly.\n"
   ]
  },
  {
   "cell_type": "markdown",
   "metadata": {},
   "source": [
    "### Analyzing Followers Count\n",
    "\n",
    "Next, we'll analyze the distribution of followers count to see how many followers artists typically have on Spotify.\n"
   ]
  },
  {
   "cell_type": "code",
   "execution_count": 7,
   "metadata": {},
   "outputs": [
    {
     "data": {
      "image/png": "[encoded data removed]",
      "text/plain": [
       "<Figure size 1000x600 with 1 Axes>"
      ]
     },
     "metadata": {},
     "output_type": "display_data"
    }
   ],
   "source": [
    "# Plotting the distribution of followers count\n",
    "plt.figure(figsize=(10, 6))\n",
    "sns.histplot(df[df['followers_count'] < 1000000]['followers_count'], bins=30, kde=True, color='green')  # Filtering for better visualization\n",
    "plt.title('Distribution of Followers Count (Up to 1M)')\n",
    "plt.xlabel('Followers Count')\n",
    "plt.ylabel('Frequency')\n",
    "plt.show()\n"
   ]
  },
  {
   "cell_type": "markdown",
   "metadata": {},
   "source": [
    "#### Distribution of Followers Count (Up to 1M)\n",
    "\n",
    "This histogram displays the followers count of Spotify artists up to one million. The skewed distribution shows that most artists have relatively few followers, with a steep decline in frequency as the followers count increases, highlighting the rarity of highly followed artists.\n"
   ]
  },
  {
   "cell_type": "markdown",
   "metadata": {},
   "source": [
    "### Popularity vs. Followers\n",
    "\n",
    "Finally, we will explore the relationship between popularity scores and followers count through a scatter plot.\n"
   ]
  },
  {
   "cell_type": "code",
   "execution_count": 8,
   "metadata": {},
   "outputs": [
    {
     "data": {
      "image/png": "[encoded data removed]",
      "text/plain": [
       "<Figure size 1200x800 with 1 Axes>"
      ]
     },
     "metadata": {},
     "output_type": "display_data"
    }
   ],
   "source": [
    "# Scatter plot of popularity vs. followers count\n",
    "plt.figure(figsize=(12, 8))\n",
    "sns.scatterplot(x='popularity_score', y='followers_count', data=df, color='purple', alpha=0.6)\n",
    "plt.title('Popularity Score vs. Followers Count')\n",
    "plt.xlabel('Popularity Score')\n",
    "plt.ylabel('Followers Count')\n",
    "plt.xscale('log')\n",
    "plt.yscale('log')  # Log scale for better visibility\n",
    "plt.grid(True)\n",
    "plt.show()\n"
   ]
  },
  {
   "cell_type": "markdown",
   "metadata": {},
   "source": [
    "#### Popularity Score vs. Followers Count\n",
    "\n",
    "The scatter plot correlates popularity scores and followers count on a logarithmic scale. The positive trend observed suggests that artists with higher popularity scores tend to have more followers, although there are exceptions, indicating that popularity is not the only factor that affects an artist's following.\n"
   ]
  },
  {
   "cell_type": "markdown",
   "metadata": {},
   "source": [
    "# Conclusion\n",
    "\n",
    "The suite of scraping tools developed for this project enables efficient and systematic data retrieval from Spotify and Timeout New York, representing a significant advancement in our ability to automate the collection of complex datasets. The `SpotifyArtistFetcher` class demonstrates the seamless integration with Spotify's API to extract artist data, while the `TimeoutRestaurantScraper` and `TimeoutSitemapScraper` classes showcase the capability to parse and organize vast amounts of web content. These tools not only streamline the process of data gathering but also highlight the potential for broader applications in data analysis, marketing research, and consumer behavior studies. Their implementation underscores the transformative impact of web scraping technologies in the realm of data science and business intelligence."
   ]
  },
  {
   "cell_type": "markdown",
   "metadata": {},
   "source": [
    "# References\n",
    "\n",
    "The following resources were indispensable in the development of the data scraping tools:\n",
    "\n",
    "- Spotify Web API: [Spotify for Developers](https://developer.spotify.com/documentation/web-api/) - Utilized for accessing artist data through the `SpotifyArtistFetcher` class.\n",
    "- Timeout New York: [Timeout New York](https://www.timeout.com/newyork) - The primary source from which restaurant data was scraped using the `TimeoutRestaurantScraper`.\n",
    "- Requests Library Documentation: [Requests: HTTP for Humans](https://docs.python-requests.org/en/latest/) - Employed for making HTTP requests across all scraping tools.\n",
    "- BeautifulSoup Documentation: [Beautiful Soup](https://www.crummy.com/software/BeautifulSoup/bs4/doc/) - Used for parsing HTML and XML in web scr…"
   ]
  },
  {
   "cell_type": "markdown",
   "metadata": {},
   "source": []
  }
 ],
 "metadata": {
  "kernelspec": {
   "display_name": "Python 3",
   "language": "python",
   "name": "python3"
  },
  "language_info": {
   "codemirror_mode": {
    "name": "ipython",
    "version": 3
   },
   "file_extension": ".py",
   "mimetype": "text/x-python",
   "name": "python",
   "nbconvert_exporter": "python",
   "pygments_lexer": "ipython3",
   "version": "3.11.0"
  }
 },
 "nbformat": 4,
 "nbformat_minor": 2
}
